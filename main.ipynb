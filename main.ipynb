{
 "cells": [
  {
   "cell_type": "code",
   "execution_count": 3,
   "metadata": {},
   "outputs": [
    {
     "name": "stderr",
     "output_type": "stream",
     "text": [
      "'sudo' is not recognized as an internal or external command,\n",
      "operable program or batch file.\n",
      "'cp' is not recognized as an internal or external command,\n",
      "operable program or batch file.\n"
     ]
    },
    {
     "name": "stdout",
     "output_type": "stream",
     "text": [
      "Requirement already satisfied: selenium in c:\\users\\rainn\\appdata\\local\\programs\\python\\python310\\lib\\site-packages (4.1.0)\n",
      "Requirement already satisfied: trio-websocket~=0.9 in c:\\users\\rainn\\appdata\\local\\programs\\python\\python310\\lib\\site-packages (from selenium) (0.9.2)\n",
      "Requirement already satisfied: trio~=0.17 in c:\\users\\rainn\\appdata\\local\\programs\\python\\python310\\lib\\site-packages (from selenium) (0.19.0)\n",
      "Requirement already satisfied: urllib3[secure]~=1.26 in c:\\users\\rainn\\appdata\\local\\programs\\python\\python310\\lib\\site-packages (from selenium) (1.26.7)\n",
      "Requirement already satisfied: outcome in c:\\users\\rainn\\appdata\\local\\programs\\python\\python310\\lib\\site-packages (from trio~=0.17->selenium) (1.1.0)\n",
      "Requirement already satisfied: idna in c:\\users\\rainn\\appdata\\local\\programs\\python\\python310\\lib\\site-packages (from trio~=0.17->selenium) (3.3)\n",
      "Requirement already satisfied: sniffio in c:\\users\\rainn\\appdata\\local\\programs\\python\\python310\\lib\\site-packages (from trio~=0.17->selenium) (1.2.0)\n",
      "Requirement already satisfied: cffi>=1.14 in c:\\users\\rainn\\appdata\\local\\programs\\python\\python310\\lib\\site-packages (from trio~=0.17->selenium) (1.15.0)\n",
      "Requirement already satisfied: sortedcontainers in c:\\users\\rainn\\appdata\\local\\programs\\python\\python310\\lib\\site-packages (from trio~=0.17->selenium) (2.4.0)\n",
      "Requirement already satisfied: attrs>=19.2.0 in c:\\users\\rainn\\appdata\\local\\programs\\python\\python310\\lib\\site-packages (from trio~=0.17->selenium) (21.2.0)\n",
      "Requirement already satisfied: async-generator>=1.9 in c:\\users\\rainn\\appdata\\local\\programs\\python\\python310\\lib\\site-packages (from trio~=0.17->selenium) (1.10)\n",
      "Requirement already satisfied: wsproto>=0.14 in c:\\users\\rainn\\appdata\\local\\programs\\python\\python310\\lib\\site-packages (from trio-websocket~=0.9->selenium) (1.0.0)\n",
      "Requirement already satisfied: certifi in c:\\users\\rainn\\appdata\\local\\programs\\python\\python310\\lib\\site-packages (from urllib3[secure]~=1.26->selenium) (2021.10.8)\n",
      "Requirement already satisfied: pyOpenSSL>=0.14 in c:\\users\\rainn\\appdata\\local\\programs\\python\\python310\\lib\\site-packages (from urllib3[secure]~=1.26->selenium) (21.0.0)\n",
      "Requirement already satisfied: cryptography>=1.3.4 in c:\\users\\rainn\\appdata\\local\\programs\\python\\python310\\lib\\site-packages (from urllib3[secure]~=1.26->selenium) (36.0.0)\n",
      "Requirement already satisfied: pycparser in c:\\users\\rainn\\appdata\\local\\programs\\python\\python310\\lib\\site-packages (from cffi>=1.14->trio~=0.17->selenium) (2.21)\n",
      "Requirement already satisfied: six>=1.5.2 in c:\\users\\rainn\\appdata\\local\\programs\\python\\python310\\lib\\site-packages (from pyOpenSSL>=0.14->urllib3[secure]~=1.26->selenium) (1.16.0)\n",
      "Requirement already satisfied: h11<1,>=0.9.0 in c:\\users\\rainn\\appdata\\local\\programs\\python\\python310\\lib\\site-packages (from wsproto>=0.14->trio-websocket~=0.9->selenium) (0.12.0)\n",
      "Note: you may need to restart the kernel to use updated packages.\n"
     ]
    },
    {
     "name": "stderr",
     "output_type": "stream",
     "text": [
      "WARNING: You are using pip version 21.3.1; however, version 22.0.4 is available.\n",
      "You should consider upgrading via the 'C:\\Users\\rainn\\AppData\\Local\\Programs\\Python\\Python310\\python.exe -m pip install --upgrade pip' command.\n"
     ]
    }
   ],
   "source": [
    "!sudo apt install chromium-chromedriver\n",
    "!cp /usr/lib/chromium-browser/chromedriver /usr/bin\n",
    "%pip install selenium"
   ]
  },
  {
   "cell_type": "code",
   "execution_count": 4,
   "metadata": {},
   "outputs": [
    {
     "name": "stderr",
     "output_type": "stream",
     "text": [
      "\n",
      "\n",
      "====== WebDriver manager ======\n",
      "Current google-chrome version is 100.0.4896\n",
      "Get LATEST chromedriver version for 100.0.4896 google-chrome\n",
      "Driver [C:\\Users\\rainn\\.wdm\\drivers\\chromedriver\\win32\\100.0.4896.60\\chromedriver.exe] found in cache\n",
      "C:\\Users\\rainn\\AppData\\Local\\Temp\\ipykernel_5912\\1578985804.py:5: DeprecationWarning: executable_path has been deprecated, please pass in a Service object\n",
      "  driver = webdriver.Chrome(ChromeDriverManager().install())\n"
     ]
    }
   ],
   "source": [
    "from selenium import webdriver\n",
    "from webdriver_manager.chrome import ChromeDriverManager\n",
    "import json\n",
    "\n",
    "driver = webdriver.Chrome(ChromeDriverManager().install())\n",
    "\n"
   ]
  },
  {
   "cell_type": "code",
   "execution_count": null,
   "metadata": {},
   "outputs": [],
   "source": [
    "driver.get(\"https://trustkeys.exchange/staking\")\n",
    "\n",
    "with open('session.txt') as f:\n",
    "    session = f.read()\n",
    "    script_session = \"window.localStorage.setItem('session',`{0}`);\".format(session)\n",
    "    driver.execute_script(script_session)\n",
    "\n"
   ]
  },
  {
   "cell_type": "code",
   "execution_count": null,
   "metadata": {},
   "outputs": [],
   "source": [
    "driver.refresh()\n",
    "driver.get(\"https://trustkeys.exchange/staking\")\n",
    "# print(driver.page_source)"
   ]
  },
  {
   "cell_type": "code",
   "execution_count": null,
   "metadata": {},
   "outputs": [],
   "source": [
    "## click vào staking\n",
    "from selenium.webdriver.common.by import By\n",
    "element = driver.find_element(by=By.XPATH,value=\"//button/span[text()='Stake ngay']\")\n",
    "element.click()\n",
    "time.sleep(1)"
   ]
  },
  {
   "cell_type": "code",
   "execution_count": null,
   "metadata": {},
   "outputs": [],
   "source": [
    "## verify input\n",
    "import time\n",
    "from selenium.webdriver.common.keys import Keys\n",
    "\n",
    "driver2 = driver\n",
    "input = driver.find_element(by=By.XPATH,value=\"//input[@id='control-ref_deposit_amount']\")\n",
    "input.send_keys(\"06/24/2017\")\n",
    "time.sleep(1)\n",
    "err = driver2.find_element(by=By.XPATH,value=\"//div[@class='ant-form-item-explain-error']\")\n",
    "try:\n",
    "    print(err.get_attribute('innerHTML'))\n",
    "except:\n",
    "    print(\"không có lỗi\")\n",
    "\n",
    "\n",
    "input.send_keys(Keys.CONTROL, 'a')\n",
    "input.send_keys(\"abc\")\n",
    "time.sleep(1)\n",
    "err = driver2.find_element(by=By.XPATH,value=\"//div[@class='ant-form-item-explain-error']\")\n",
    "try:\n",
    "    print(err.get_attribute('innerHTML'))\n",
    "except:\n",
    "    print(\"không có lỗi\")\n",
    "\n",
    "\n",
    "input.send_keys(Keys.CONTROL, 'a')\n",
    "input.send_keys(\"200\")\n",
    "time.sleep(1)\n",
    "err = driver2.find_element(by=By.XPATH,value=\"//div[@class='ant-form-item-explain-error']\")\n",
    "try:\n",
    "    print(err.get_attribute('innerHTML'))\n",
    "except:\n",
    "    print(\"không có lỗi\")\n",
    "\n",
    "\n",
    "input.send_keys(Keys.CONTROL, 'a')\n",
    "input.send_keys(\"10000\")\n",
    "time.sleep(1)\n",
    "err = driver2.find_element(by=By.XPATH,value=\"//div[@class='ant-form-item-explain-error']\")\n",
    "try:\n",
    "    print(err.get_attribute('innerHTML'))\n",
    "except:\n",
    "    print(\"không có lỗi\")"
   ]
  },
  {
   "cell_type": "code",
   "execution_count": null,
   "metadata": {},
   "outputs": [],
   "source": []
  }
 ],
 "metadata": {
  "interpreter": {
   "hash": "b0fa6594d8f4cbf19f97940f81e996739fb7646882a419484c72d19e05852a7e"
  },
  "kernelspec": {
   "display_name": "Python 3.9.7 64-bit",
   "name": "python3"
  },
  "language_info": {
   "codemirror_mode": {
    "name": "ipython",
    "version": 3
   },
   "file_extension": ".py",
   "mimetype": "text/x-python",
   "name": "python",
   "nbconvert_exporter": "python",
   "pygments_lexer": "ipython3",
   "version": "3.10.0"
  },
  "orig_nbformat": 4
 },
 "nbformat": 4,
 "nbformat_minor": 2
}
